{
 "cells": [
  {
   "cell_type": "code",
   "execution_count": 1,
   "id": "7fc8d85e",
   "metadata": {},
   "outputs": [],
   "source": [
    "import numpy as np\n",
    "import argparse\n",
    "import csv\n",
    "from sklearn.cluster import Birch\n",
    "import matplotlib.pyplot as plt\n",
    "\n",
    "import pandas as pd\n",
    "import plotly\n",
    "import plotly.graph_objs as go\n",
    "import seaborn as sns\n",
    "from typing import  Tuple, Dict, List"
   ]
  },
  {
   "cell_type": "code",
   "execution_count": 2,
   "id": "857a75cd",
   "metadata": {},
   "outputs": [],
   "source": [
    "def load_data(file_name) -> List[List]:\n",
    "    print(\"--->Loading csv file\")\n",
    "\n",
    "    with open(file_name) as csv_file:\n",
    "        csv_reader = csv.reader(csv_file, delimiter=\",\")\n",
    "        line_count = 0\n",
    "        data = []\n",
    "\n",
    "        for line in csv_reader:\n",
    "            if line_count == 0:\n",
    "                print(f'Column names: [{\", \".join(line)}]')\n",
    "            else:\n",
    "                data.append(line)\n",
    "            line_count += 1 \n",
    "\n",
    "    print(f'Loaded {line_count} records')\n",
    "    return data\n",
    "\n"
   ]
  },
  {
   "cell_type": "code",
   "execution_count": 3,
   "id": "79a59206",
   "metadata": {},
   "outputs": [],
   "source": [
    "def compute_clusters(data: List) -> np.ndarray:\n",
    "    print(\"--->Computing clusters\")\n",
    "    birch = Birch(\n",
    "        branching_factor=50,\n",
    "        n_clusters=5,\n",
    "        threshold=0.3,\n",
    "        copy=True,\n",
    "        compute_labels=True\n",
    "    )\n",
    "\n",
    "    birch.fit(data)\n",
    "    predictions = np.array(birch.predict(data))\n",
    "    return predictions\n"
   ]
  },
  {
   "cell_type": "code",
   "execution_count": 4,
   "id": "85e90075",
   "metadata": {},
   "outputs": [],
   "source": [
    "def show_results(data: np.ndarray, labels: np.ndarray, plot_handler = \"seaborn\") -> None:\n",
    "    labels = np.reshape(labels, (1, labels.size))\n",
    "    data = np.concatenate((data, labels.T), axis=1)\n",
    "    \n",
    "    # Seaborn plot\n",
    "    if plot_handler == \"seaborn\":\n",
    "        facet = sns.lmplot(\n",
    "            data=pd.DataFrame(data, columns=[\"Income\", \"Spending\", \"Label\"]), \n",
    "            x=\"Income\", \n",
    "            y=\"Spending\", \n",
    "            hue='Label', \n",
    "            fit_reg=False, \n",
    "            legend=True, \n",
    "            legend_out=True\n",
    "        )\n",
    "\n",
    "    # Pure matplotlib plot\n",
    "    if plot_handler == \"matplotlib\":\n",
    "        fig = plt.figure()\n",
    "        ax = fig.add_subplot(111)\n",
    "        scatter = ax.scatter(data[:,0], data[:, 1], c=data[:, 2], s=50)\n",
    "        ax.set_title(\"Clusters\")\n",
    "        ax.set_xlabel(\"Income\")\n",
    "        ax.set_ylabel(\"Spending\")\n",
    "        plt.colorbar(scatter)\n",
    "    plt.show()"
   ]
  },
  {
   "cell_type": "code",
   "execution_count": 5,
   "id": "de84fb5e",
   "metadata": {},
   "outputs": [],
   "source": [
    "def show_data_corelation(data=None, csv_file_name=None):\n",
    "    data_set = None\n",
    "    if csv_file_name is None:\n",
    "        cor = np.corrcoef(data)\n",
    "        print(\"Corelation matrix:\")\n",
    "        print(cor)\n",
    "    else:\n",
    "        data_set = pd.read_csv(csv_file_name)\n",
    "        print(data_set.describe())\n",
    "        data_set = data_set[[\"Age\", \"Annual Income (k$)\", \"Spending Score (1-100)\"]]\n",
    "        cor = data_set.corr()\n",
    "    sns.heatmap(cor, square=True)\n",
    "    plt.show()\n",
    "    return data_set"
   ]
  },
  {
   "cell_type": "code",
   "execution_count": 6,
   "id": "b2e04655",
   "metadata": {},
   "outputs": [],
   "source": [
    "def main(args) -> None:\n",
    "    data = load_data(args.data_file)\n",
    "    filtered_data = np.array([[item[3], item[4]] for item in data])\n",
    "\n",
    "    data_set = None #Alternative data loaded using pandas\n",
    "    if args.describe == True:\n",
    "        data_set = show_data_corelation(csv_file_name=args.data_file)\n",
    "\n",
    "    filtered_data = np.array(filtered_data).astype(np.float64)\n",
    "    labels = compute_clusters(filtered_data)\n",
    "    show_results(filtered_data, labels, args.plot_handler)"
   ]
  },
  {
   "cell_type": "code",
   "execution_count": 8,
   "id": "92743899",
   "metadata": {},
   "outputs": [
    {
     "name": "stderr",
     "output_type": "stream",
     "text": [
      "usage: ipykernel_launcher.py [-h] [--data-file DATA_FILE] [--describe DESCRIBE] [--plot-handler PLOT_HANDLER]\n",
      "ipykernel_launcher.py: error: unrecognized arguments: -f C:\\Users\\KISHORE KUMAR A V\\AppData\\Roaming\\jupyter\\runtime\\kernel-975a7ba1-e119-4f63-ad56-4787b7c671d2.json\n"
     ]
    },
    {
     "ename": "SystemExit",
     "evalue": "2",
     "output_type": "error",
     "traceback": [
      "An exception has occurred, use %tb to see the full traceback.\n",
      "\u001b[1;31mSystemExit\u001b[0m\u001b[1;31m:\u001b[0m 2\n"
     ]
    },
    {
     "name": "stderr",
     "output_type": "stream",
     "text": [
      "C:\\Users\\KISHORE KUMAR A V\\AppData\\Local\\Programs\\Python\\Python39\\lib\\site-packages\\IPython\\core\\interactiveshell.py:3406: UserWarning: To exit: use 'exit', 'quit', or Ctrl-D.\n",
      "  warn(\"To exit: use 'exit', 'quit', or Ctrl-D.\", stacklevel=1)\n"
     ]
    }
   ],
   "source": [
    "if __name__ == \"__main__\":\n",
    "        parser = argparse.ArgumentParser(description=\"Do some clustering\")\n",
    "        parser.add_argument(\"--data-file\", type=str, default=\"Mall_Customers.csv\", help=\"dataset file name\")\n",
    "        parser.add_argument(\"--describe\", type=bool, default=False, help=\"describe the dataset\")\n",
    "        parser.add_argument(\"--plot-handler\", type=str, default=\"seaborn\", help=\"what library to use for data visualisation\")\n",
    "        args = parser.parse_args()\n",
    "        \n",
    "        main(args)"
   ]
  },
  {
   "cell_type": "code",
   "execution_count": null,
   "id": "92fa2fe3",
   "metadata": {},
   "outputs": [],
   "source": []
  }
 ],
 "metadata": {
  "kernelspec": {
   "display_name": "Python 3 (ipykernel)",
   "language": "python",
   "name": "python3"
  },
  "language_info": {
   "codemirror_mode": {
    "name": "ipython",
    "version": 3
   },
   "file_extension": ".py",
   "mimetype": "text/x-python",
   "name": "python",
   "nbconvert_exporter": "python",
   "pygments_lexer": "ipython3",
   "version": "3.9.8"
  }
 },
 "nbformat": 4,
 "nbformat_minor": 5
}
